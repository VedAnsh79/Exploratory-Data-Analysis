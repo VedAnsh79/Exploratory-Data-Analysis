{
 "cells": [
  {
   "cell_type": "markdown",
   "id": "65b3696e",
   "metadata": {
    "papermill": {
     "duration": 0.034658,
     "end_time": "2021-07-16T13:05:00.682024",
     "exception": false,
     "start_time": "2021-07-16T13:05:00.647366",
     "status": "completed"
    },
    "tags": []
   },
   "source": [
    "# Explorartory Data Analysis Project - Retail Market Store\n",
    "\n",
    "## Introduction\n",
    "\n",
    "A supermarket is a self-service shop offering a wide variety of food, beverages and household products, organized into sections. This kind of store is larger and has a wider selection than earlier grocery stores, but is smaller and more limited in the range of merchandise than a hypermarket or big-box market. In everyday usage, however,* \"grocery store\"* is synonymous with supermarket, and is not used to refer to other types of stores that sell groceries.\n",
    "\n",
    "<a href=\"https://imgbb.com/\"><img src=\"https://i.ibb.co/kMwMyk6/super.jpg\" alt=\"super\" border=\"0\"></a><br /><a target='_blank' href='https://the-crosswordsolver.com/genuine-in-germany-4-letters'></a><br />"
   ]
  },
  {
   "cell_type": "markdown",
   "id": "c784387e",
   "metadata": {
    "papermill": {
     "duration": 0.03284,
     "end_time": "2021-07-16T13:05:00.749428",
     "exception": false,
     "start_time": "2021-07-16T13:05:00.716588",
     "status": "completed"
    },
    "tags": []
   },
   "source": [
    "----\n",
    "### IMPORTING LIBRARIES¶\n",
    "List of all the python libraries that are required:\n",
    "\n",
    "- Library `pandas` will be required to work with data in tabular representation.\n",
    "- Library `numpy` will be required to round the data in the correlation matrix.\n",
    "- Library `warning` will be required to ignore all warnings.\n",
    "- Library `matplotlib`, `seaborn`, `plotly` required for data visualization.\n",
    "\n",
    "---"
   ]
  },
  {
   "cell_type": "code",
   "execution_count": 1,
   "id": "152bf76b",
   "metadata": {
    "_cell_guid": "b1076dfc-b9ad-4769-8c92-a6c4dae69d19",
    "_uuid": "8f2839f25d086af736a60e9eeb907d3b93b6e0e5",
    "execution": {
     "iopub.execute_input": "2021-07-16T13:05:00.844945Z",
     "iopub.status.busy": "2021-07-16T13:05:00.844153Z",
     "iopub.status.idle": "2021-07-16T13:05:03.222702Z",
     "shell.execute_reply": "2021-07-16T13:05:03.222024Z",
     "shell.execute_reply.started": "2021-07-11T06:58:25.051347Z"
    },
    "papermill": {
     "duration": 2.436922,
     "end_time": "2021-07-16T13:05:03.222859",
     "exception": false,
     "start_time": "2021-07-16T13:05:00.785937",
     "status": "completed"
    },
    "tags": []
   },
   "outputs": [],
   "source": [
    "import numpy as np\n",
    "import pandas as pd\n",
    "import seaborn as sns\n",
    "import plotly.express as px\n",
    "import matplotlib.pyplot as plt\n",
    "import matplotlib\n",
    "%matplotlib inline\n",
    "import warnings\n",
    "warnings.simplefilter(action=\"ignore\")"
   ]
  },
  {
   "cell_type": "code",
   "execution_count": 2,
   "id": "3a11579a",
   "metadata": {
    "execution": {
     "iopub.execute_input": "2021-07-16T13:05:03.296546Z",
     "iopub.status.busy": "2021-07-16T13:05:03.295818Z",
     "iopub.status.idle": "2021-07-16T13:05:03.353207Z",
     "shell.execute_reply": "2021-07-16T13:05:03.352055Z",
     "shell.execute_reply.started": "2021-07-11T06:58:25.084649Z"
    },
    "papermill": {
     "duration": 0.095384,
     "end_time": "2021-07-16T13:05:03.353395",
     "exception": false,
     "start_time": "2021-07-16T13:05:03.258011",
     "status": "completed"
    },
    "tags": []
   },
   "outputs": [
    {
     "name": "stdout",
     "output_type": "stream",
     "text": [
      "Data loaded successfully.\n"
     ]
    }
   ],
   "source": [
    "df = pd.read_csv('F:/SPARKS_foundation/SampleSuperstore.csv')\n",
    "print('Data loaded successfully.')"
   ]
  },
  {
   "cell_type": "markdown",
   "id": "c0074a97",
   "metadata": {
    "papermill": {
     "duration": 0.033807,
     "end_time": "2021-07-16T13:05:03.421465",
     "exception": false,
     "start_time": "2021-07-16T13:05:03.387658",
     "status": "completed"
    },
    "tags": []
   },
   "source": [
    "\n",
    "--------------\n",
    "Now the dataset is loaded, we will now understand the dataset.\n",
    "\n",
    "----"
   ]
  },
  {
   "cell_type": "code",
   "execution_count": 3,
   "id": "4f28109c",
   "metadata": {
    "execution": {
     "iopub.execute_input": "2021-07-16T13:05:03.501593Z",
     "iopub.status.busy": "2021-07-16T13:05:03.499746Z",
     "iopub.status.idle": "2021-07-16T13:05:03.527529Z",
     "shell.execute_reply": "2021-07-16T13:05:03.528154Z",
     "shell.execute_reply.started": "2021-07-11T06:58:25.120863Z"
    },
    "papermill": {
     "duration": 0.072935,
     "end_time": "2021-07-16T13:05:03.528343",
     "exception": false,
     "start_time": "2021-07-16T13:05:03.455408",
     "status": "completed"
    },
    "scrolled": true,
    "tags": []
   },
   "outputs": [
    {
     "data": {
      "text/html": [
       "<div>\n",
       "<style scoped>\n",
       "    .dataframe tbody tr th:only-of-type {\n",
       "        vertical-align: middle;\n",
       "    }\n",
       "\n",
       "    .dataframe tbody tr th {\n",
       "        vertical-align: top;\n",
       "    }\n",
       "\n",
       "    .dataframe thead th {\n",
       "        text-align: right;\n",
       "    }\n",
       "</style>\n",
       "<table border=\"1\" class=\"dataframe\">\n",
       "  <thead>\n",
       "    <tr style=\"text-align: right;\">\n",
       "      <th></th>\n",
       "      <th>Ship Mode</th>\n",
       "      <th>Segment</th>\n",
       "      <th>Country</th>\n",
       "      <th>City</th>\n",
       "      <th>State</th>\n",
       "      <th>Postal Code</th>\n",
       "      <th>Region</th>\n",
       "      <th>Category</th>\n",
       "      <th>Sub-Category</th>\n",
       "      <th>Sales</th>\n",
       "      <th>Quantity</th>\n",
       "      <th>Discount</th>\n",
       "      <th>Profit</th>\n",
       "    </tr>\n",
       "  </thead>\n",
       "  <tbody>\n",
       "    <tr>\n",
       "      <th>0</th>\n",
       "      <td>Second Class</td>\n",
       "      <td>Consumer</td>\n",
       "      <td>United States</td>\n",
       "      <td>Henderson</td>\n",
       "      <td>Kentucky</td>\n",
       "      <td>42420</td>\n",
       "      <td>South</td>\n",
       "      <td>Furniture</td>\n",
       "      <td>Bookcases</td>\n",
       "      <td>261.9600</td>\n",
       "      <td>2</td>\n",
       "      <td>0.00</td>\n",
       "      <td>41.9136</td>\n",
       "    </tr>\n",
       "    <tr>\n",
       "      <th>1</th>\n",
       "      <td>Second Class</td>\n",
       "      <td>Consumer</td>\n",
       "      <td>United States</td>\n",
       "      <td>Henderson</td>\n",
       "      <td>Kentucky</td>\n",
       "      <td>42420</td>\n",
       "      <td>South</td>\n",
       "      <td>Furniture</td>\n",
       "      <td>Chairs</td>\n",
       "      <td>731.9400</td>\n",
       "      <td>3</td>\n",
       "      <td>0.00</td>\n",
       "      <td>219.5820</td>\n",
       "    </tr>\n",
       "    <tr>\n",
       "      <th>2</th>\n",
       "      <td>Second Class</td>\n",
       "      <td>Corporate</td>\n",
       "      <td>United States</td>\n",
       "      <td>Los Angeles</td>\n",
       "      <td>California</td>\n",
       "      <td>90036</td>\n",
       "      <td>West</td>\n",
       "      <td>Office Supplies</td>\n",
       "      <td>Labels</td>\n",
       "      <td>14.6200</td>\n",
       "      <td>2</td>\n",
       "      <td>0.00</td>\n",
       "      <td>6.8714</td>\n",
       "    </tr>\n",
       "    <tr>\n",
       "      <th>3</th>\n",
       "      <td>Standard Class</td>\n",
       "      <td>Consumer</td>\n",
       "      <td>United States</td>\n",
       "      <td>Fort Lauderdale</td>\n",
       "      <td>Florida</td>\n",
       "      <td>33311</td>\n",
       "      <td>South</td>\n",
       "      <td>Furniture</td>\n",
       "      <td>Tables</td>\n",
       "      <td>957.5775</td>\n",
       "      <td>5</td>\n",
       "      <td>0.45</td>\n",
       "      <td>-383.0310</td>\n",
       "    </tr>\n",
       "    <tr>\n",
       "      <th>4</th>\n",
       "      <td>Standard Class</td>\n",
       "      <td>Consumer</td>\n",
       "      <td>United States</td>\n",
       "      <td>Fort Lauderdale</td>\n",
       "      <td>Florida</td>\n",
       "      <td>33311</td>\n",
       "      <td>South</td>\n",
       "      <td>Office Supplies</td>\n",
       "      <td>Storage</td>\n",
       "      <td>22.3680</td>\n",
       "      <td>2</td>\n",
       "      <td>0.20</td>\n",
       "      <td>2.5164</td>\n",
       "    </tr>\n",
       "  </tbody>\n",
       "</table>\n",
       "</div>"
      ],
      "text/plain": [
       "        Ship Mode    Segment        Country             City       State  \\\n",
       "0    Second Class   Consumer  United States        Henderson    Kentucky   \n",
       "1    Second Class   Consumer  United States        Henderson    Kentucky   \n",
       "2    Second Class  Corporate  United States      Los Angeles  California   \n",
       "3  Standard Class   Consumer  United States  Fort Lauderdale     Florida   \n",
       "4  Standard Class   Consumer  United States  Fort Lauderdale     Florida   \n",
       "\n",
       "   Postal Code Region         Category Sub-Category     Sales  Quantity  \\\n",
       "0        42420  South        Furniture    Bookcases  261.9600         2   \n",
       "1        42420  South        Furniture       Chairs  731.9400         3   \n",
       "2        90036   West  Office Supplies       Labels   14.6200         2   \n",
       "3        33311  South        Furniture       Tables  957.5775         5   \n",
       "4        33311  South  Office Supplies      Storage   22.3680         2   \n",
       "\n",
       "   Discount    Profit  \n",
       "0      0.00   41.9136  \n",
       "1      0.00  219.5820  \n",
       "2      0.00    6.8714  \n",
       "3      0.45 -383.0310  \n",
       "4      0.20    2.5164  "
      ]
     },
     "execution_count": 3,
     "metadata": {},
     "output_type": "execute_result"
    }
   ],
   "source": [
    "df.head()"
   ]
  },
  {
   "cell_type": "code",
   "execution_count": 28,
   "id": "f0165c21",
   "metadata": {},
   "outputs": [
    {
     "data": {
      "text/html": [
       "<div>\n",
       "<style scoped>\n",
       "    .dataframe tbody tr th:only-of-type {\n",
       "        vertical-align: middle;\n",
       "    }\n",
       "\n",
       "    .dataframe tbody tr th {\n",
       "        vertical-align: top;\n",
       "    }\n",
       "\n",
       "    .dataframe thead th {\n",
       "        text-align: right;\n",
       "    }\n",
       "</style>\n",
       "<table border=\"1\" class=\"dataframe\">\n",
       "  <thead>\n",
       "    <tr style=\"text-align: right;\">\n",
       "      <th></th>\n",
       "      <th>Ship Mode</th>\n",
       "      <th>Segment</th>\n",
       "      <th>Country</th>\n",
       "      <th>City</th>\n",
       "      <th>State</th>\n",
       "      <th>Postal Code</th>\n",
       "      <th>Region</th>\n",
       "      <th>Category</th>\n",
       "      <th>Sub-Category</th>\n",
       "      <th>Sales</th>\n",
       "      <th>Quantity</th>\n",
       "      <th>Discount</th>\n",
       "      <th>Profit</th>\n",
       "    </tr>\n",
       "  </thead>\n",
       "  <tbody>\n",
       "    <tr>\n",
       "      <th>6682</th>\n",
       "      <td>First Class</td>\n",
       "      <td>Home Office</td>\n",
       "      <td>United States</td>\n",
       "      <td>Franklin</td>\n",
       "      <td>Wisconsin</td>\n",
       "      <td>53132</td>\n",
       "      <td>Central</td>\n",
       "      <td>Office Supplies</td>\n",
       "      <td>Binders</td>\n",
       "      <td>3.600</td>\n",
       "      <td>2</td>\n",
       "      <td>0.00</td>\n",
       "      <td>1.7280</td>\n",
       "    </tr>\n",
       "    <tr>\n",
       "      <th>6891</th>\n",
       "      <td>Standard Class</td>\n",
       "      <td>Corporate</td>\n",
       "      <td>United States</td>\n",
       "      <td>Columbus</td>\n",
       "      <td>Georgia</td>\n",
       "      <td>31907</td>\n",
       "      <td>South</td>\n",
       "      <td>Office Supplies</td>\n",
       "      <td>Art</td>\n",
       "      <td>113.940</td>\n",
       "      <td>3</td>\n",
       "      <td>0.00</td>\n",
       "      <td>34.1820</td>\n",
       "    </tr>\n",
       "    <tr>\n",
       "      <th>7550</th>\n",
       "      <td>Standard Class</td>\n",
       "      <td>Corporate</td>\n",
       "      <td>United States</td>\n",
       "      <td>New York City</td>\n",
       "      <td>New York</td>\n",
       "      <td>10024</td>\n",
       "      <td>East</td>\n",
       "      <td>Office Supplies</td>\n",
       "      <td>Envelopes</td>\n",
       "      <td>34.740</td>\n",
       "      <td>3</td>\n",
       "      <td>0.00</td>\n",
       "      <td>17.3700</td>\n",
       "    </tr>\n",
       "    <tr>\n",
       "      <th>7814</th>\n",
       "      <td>First Class</td>\n",
       "      <td>Home Office</td>\n",
       "      <td>United States</td>\n",
       "      <td>Los Angeles</td>\n",
       "      <td>California</td>\n",
       "      <td>90049</td>\n",
       "      <td>West</td>\n",
       "      <td>Furniture</td>\n",
       "      <td>Bookcases</td>\n",
       "      <td>1497.666</td>\n",
       "      <td>2</td>\n",
       "      <td>0.15</td>\n",
       "      <td>140.9568</td>\n",
       "    </tr>\n",
       "    <tr>\n",
       "      <th>3667</th>\n",
       "      <td>Standard Class</td>\n",
       "      <td>Consumer</td>\n",
       "      <td>United States</td>\n",
       "      <td>Salem</td>\n",
       "      <td>Oregon</td>\n",
       "      <td>97301</td>\n",
       "      <td>West</td>\n",
       "      <td>Office Supplies</td>\n",
       "      <td>Supplies</td>\n",
       "      <td>13.880</td>\n",
       "      <td>5</td>\n",
       "      <td>0.20</td>\n",
       "      <td>-2.6025</td>\n",
       "    </tr>\n",
       "  </tbody>\n",
       "</table>\n",
       "</div>"
      ],
      "text/plain": [
       "           Ship Mode      Segment        Country           City       State  \\\n",
       "6682     First Class  Home Office  United States       Franklin   Wisconsin   \n",
       "6891  Standard Class    Corporate  United States       Columbus     Georgia   \n",
       "7550  Standard Class    Corporate  United States  New York City    New York   \n",
       "7814     First Class  Home Office  United States    Los Angeles  California   \n",
       "3667  Standard Class     Consumer  United States          Salem      Oregon   \n",
       "\n",
       "      Postal Code   Region         Category Sub-Category     Sales  Quantity  \\\n",
       "6682        53132  Central  Office Supplies      Binders     3.600         2   \n",
       "6891        31907    South  Office Supplies          Art   113.940         3   \n",
       "7550        10024     East  Office Supplies    Envelopes    34.740         3   \n",
       "7814        90049     West        Furniture    Bookcases  1497.666         2   \n",
       "3667        97301     West  Office Supplies     Supplies    13.880         5   \n",
       "\n",
       "      Discount    Profit  \n",
       "6682      0.00    1.7280  \n",
       "6891      0.00   34.1820  \n",
       "7550      0.00   17.3700  \n",
       "7814      0.15  140.9568  \n",
       "3667      0.20   -2.6025  "
      ]
     },
     "execution_count": 28,
     "metadata": {},
     "output_type": "execute_result"
    }
   ],
   "source": [
    "df.sample(5)"
   ]
  },
  {
   "cell_type": "code",
   "execution_count": 29,
   "id": "b58db63a",
   "metadata": {
    "execution": {
     "iopub.execute_input": "2021-07-16T13:05:03.603506Z",
     "iopub.status.busy": "2021-07-16T13:05:03.602743Z",
     "iopub.status.idle": "2021-07-16T13:05:03.609230Z",
     "shell.execute_reply": "2021-07-16T13:05:03.607981Z",
     "shell.execute_reply.started": "2021-07-11T06:58:25.166732Z"
    },
    "papermill": {
     "duration": 0.044376,
     "end_time": "2021-07-16T13:05:03.609450",
     "exception": false,
     "start_time": "2021-07-16T13:05:03.565074",
     "status": "completed"
    },
    "tags": []
   },
   "outputs": [
    {
     "name": "stdout",
     "output_type": "stream",
     "text": [
      "Shape of our dataframe is : (9977, 13)\n"
     ]
    }
   ],
   "source": [
    "print('Shape of our dataframe is :',str(df.shape))"
   ]
  },
  {
   "cell_type": "code",
   "execution_count": 5,
   "id": "39917215",
   "metadata": {
    "execution": {
     "iopub.execute_input": "2021-07-16T13:05:03.695423Z",
     "iopub.status.busy": "2021-07-16T13:05:03.694572Z",
     "iopub.status.idle": "2021-07-16T13:05:03.715893Z",
     "shell.execute_reply": "2021-07-16T13:05:03.715341Z",
     "shell.execute_reply.started": "2021-07-11T06:58:25.209049Z"
    },
    "papermill": {
     "duration": 0.069789,
     "end_time": "2021-07-16T13:05:03.716030",
     "exception": false,
     "start_time": "2021-07-16T13:05:03.646241",
     "status": "completed"
    },
    "tags": []
   },
   "outputs": [
    {
     "name": "stdout",
     "output_type": "stream",
     "text": [
      "<class 'pandas.core.frame.DataFrame'>\n",
      "RangeIndex: 9994 entries, 0 to 9993\n",
      "Data columns (total 13 columns):\n",
      " #   Column        Non-Null Count  Dtype  \n",
      "---  ------        --------------  -----  \n",
      " 0   Ship Mode     9994 non-null   object \n",
      " 1   Segment       9994 non-null   object \n",
      " 2   Country       9994 non-null   object \n",
      " 3   City          9994 non-null   object \n",
      " 4   State         9994 non-null   object \n",
      " 5   Postal Code   9994 non-null   int64  \n",
      " 6   Region        9994 non-null   object \n",
      " 7   Category      9994 non-null   object \n",
      " 8   Sub-Category  9994 non-null   object \n",
      " 9   Sales         9994 non-null   float64\n",
      " 10  Quantity      9994 non-null   int64  \n",
      " 11  Discount      9994 non-null   float64\n",
      " 12  Profit        9994 non-null   float64\n",
      "dtypes: float64(3), int64(2), object(8)\n",
      "memory usage: 1015.1+ KB\n"
     ]
    }
   ],
   "source": [
    "df.info()"
   ]
  },
  {
   "cell_type": "code",
   "execution_count": 6,
   "id": "f80064e4",
   "metadata": {
    "execution": {
     "iopub.execute_input": "2021-07-16T13:05:03.790714Z",
     "iopub.status.busy": "2021-07-16T13:05:03.789735Z",
     "iopub.status.idle": "2021-07-16T13:05:03.806865Z",
     "shell.execute_reply": "2021-07-16T13:05:03.806274Z",
     "shell.execute_reply.started": "2021-07-11T06:58:25.236079Z"
    },
    "papermill": {
     "duration": 0.055221,
     "end_time": "2021-07-16T13:05:03.806998",
     "exception": false,
     "start_time": "2021-07-16T13:05:03.751777",
     "status": "completed"
    },
    "tags": []
   },
   "outputs": [
    {
     "data": {
      "text/plain": [
       "Ship Mode       0\n",
       "Segment         0\n",
       "Country         0\n",
       "City            0\n",
       "State           0\n",
       "Postal Code     0\n",
       "Region          0\n",
       "Category        0\n",
       "Sub-Category    0\n",
       "Sales           0\n",
       "Quantity        0\n",
       "Discount        0\n",
       "Profit          0\n",
       "dtype: int64"
      ]
     },
     "execution_count": 6,
     "metadata": {},
     "output_type": "execute_result"
    }
   ],
   "source": [
    "df.isna().sum()"
   ]
  },
  {
   "cell_type": "markdown",
   "id": "cdd29cdf",
   "metadata": {
    "papermill": {
     "duration": 0.035732,
     "end_time": "2021-07-16T13:05:03.878132",
     "exception": false,
     "start_time": "2021-07-16T13:05:03.842400",
     "status": "completed"
    },
    "tags": []
   },
   "source": [
    ">The given Dataframe has no NaN (Missing) Values.        "
   ]
  },
  {
   "cell_type": "markdown",
   "id": "69e2c1b0",
   "metadata": {},
   "source": [
    "----\n",
    "### MATHEMATICAL VIEW OF THE DATA\n",
    "---\n",
    "____"
   ]
  },
  {
   "cell_type": "markdown",
   "id": "fb549edc",
   "metadata": {},
   "source": [
    "#### 1.NUMERICAL COLUMNS\n"
   ]
  },
  {
   "cell_type": "code",
   "execution_count": 7,
   "id": "fcac75ef",
   "metadata": {
    "execution": {
     "iopub.execute_input": "2021-07-16T13:05:03.953232Z",
     "iopub.status.busy": "2021-07-16T13:05:03.952594Z",
     "iopub.status.idle": "2021-07-16T13:05:03.982590Z",
     "shell.execute_reply": "2021-07-16T13:05:03.983044Z",
     "shell.execute_reply.started": "2021-07-11T06:58:25.256499Z"
    },
    "papermill": {
     "duration": 0.069004,
     "end_time": "2021-07-16T13:05:03.983235",
     "exception": false,
     "start_time": "2021-07-16T13:05:03.914231",
     "status": "completed"
    },
    "tags": []
   },
   "outputs": [
    {
     "data": {
      "text/html": [
       "<div>\n",
       "<style scoped>\n",
       "    .dataframe tbody tr th:only-of-type {\n",
       "        vertical-align: middle;\n",
       "    }\n",
       "\n",
       "    .dataframe tbody tr th {\n",
       "        vertical-align: top;\n",
       "    }\n",
       "\n",
       "    .dataframe thead th {\n",
       "        text-align: right;\n",
       "    }\n",
       "</style>\n",
       "<table border=\"1\" class=\"dataframe\">\n",
       "  <thead>\n",
       "    <tr style=\"text-align: right;\">\n",
       "      <th></th>\n",
       "      <th>Postal Code</th>\n",
       "      <th>Sales</th>\n",
       "      <th>Quantity</th>\n",
       "      <th>Discount</th>\n",
       "      <th>Profit</th>\n",
       "    </tr>\n",
       "  </thead>\n",
       "  <tbody>\n",
       "    <tr>\n",
       "      <th>count</th>\n",
       "      <td>9994.000000</td>\n",
       "      <td>9994.000000</td>\n",
       "      <td>9994.000000</td>\n",
       "      <td>9994.000000</td>\n",
       "      <td>9994.000000</td>\n",
       "    </tr>\n",
       "    <tr>\n",
       "      <th>mean</th>\n",
       "      <td>55190.379428</td>\n",
       "      <td>229.858001</td>\n",
       "      <td>3.789574</td>\n",
       "      <td>0.156203</td>\n",
       "      <td>28.656896</td>\n",
       "    </tr>\n",
       "    <tr>\n",
       "      <th>std</th>\n",
       "      <td>32063.693350</td>\n",
       "      <td>623.245101</td>\n",
       "      <td>2.225110</td>\n",
       "      <td>0.206452</td>\n",
       "      <td>234.260108</td>\n",
       "    </tr>\n",
       "    <tr>\n",
       "      <th>min</th>\n",
       "      <td>1040.000000</td>\n",
       "      <td>0.444000</td>\n",
       "      <td>1.000000</td>\n",
       "      <td>0.000000</td>\n",
       "      <td>-6599.978000</td>\n",
       "    </tr>\n",
       "    <tr>\n",
       "      <th>25%</th>\n",
       "      <td>23223.000000</td>\n",
       "      <td>17.280000</td>\n",
       "      <td>2.000000</td>\n",
       "      <td>0.000000</td>\n",
       "      <td>1.728750</td>\n",
       "    </tr>\n",
       "    <tr>\n",
       "      <th>50%</th>\n",
       "      <td>56430.500000</td>\n",
       "      <td>54.490000</td>\n",
       "      <td>3.000000</td>\n",
       "      <td>0.200000</td>\n",
       "      <td>8.666500</td>\n",
       "    </tr>\n",
       "    <tr>\n",
       "      <th>75%</th>\n",
       "      <td>90008.000000</td>\n",
       "      <td>209.940000</td>\n",
       "      <td>5.000000</td>\n",
       "      <td>0.200000</td>\n",
       "      <td>29.364000</td>\n",
       "    </tr>\n",
       "    <tr>\n",
       "      <th>max</th>\n",
       "      <td>99301.000000</td>\n",
       "      <td>22638.480000</td>\n",
       "      <td>14.000000</td>\n",
       "      <td>0.800000</td>\n",
       "      <td>8399.976000</td>\n",
       "    </tr>\n",
       "  </tbody>\n",
       "</table>\n",
       "</div>"
      ],
      "text/plain": [
       "        Postal Code         Sales     Quantity     Discount       Profit\n",
       "count   9994.000000   9994.000000  9994.000000  9994.000000  9994.000000\n",
       "mean   55190.379428    229.858001     3.789574     0.156203    28.656896\n",
       "std    32063.693350    623.245101     2.225110     0.206452   234.260108\n",
       "min     1040.000000      0.444000     1.000000     0.000000 -6599.978000\n",
       "25%    23223.000000     17.280000     2.000000     0.000000     1.728750\n",
       "50%    56430.500000     54.490000     3.000000     0.200000     8.666500\n",
       "75%    90008.000000    209.940000     5.000000     0.200000    29.364000\n",
       "max    99301.000000  22638.480000    14.000000     0.800000  8399.976000"
      ]
     },
     "execution_count": 7,
     "metadata": {},
     "output_type": "execute_result"
    }
   ],
   "source": [
    "df.describe()"
   ]
  },
  {
   "cell_type": "markdown",
   "id": "7c2ae206",
   "metadata": {},
   "source": [
    "#### 2.CATEGORICAL COLUMNS"
   ]
  },
  {
   "cell_type": "code",
   "execution_count": 31,
   "id": "76f3363c",
   "metadata": {
    "execution": {
     "iopub.execute_input": "2021-07-16T13:05:04.059816Z",
     "iopub.status.busy": "2021-07-16T13:05:04.058837Z",
     "iopub.status.idle": "2021-07-16T13:05:04.131020Z",
     "shell.execute_reply": "2021-07-16T13:05:04.130376Z",
     "shell.execute_reply.started": "2021-07-11T06:58:25.320075Z"
    },
    "papermill": {
     "duration": 0.111249,
     "end_time": "2021-07-16T13:05:04.131159",
     "exception": false,
     "start_time": "2021-07-16T13:05:04.019910",
     "status": "completed"
    },
    "tags": []
   },
   "outputs": [
    {
     "data": {
      "text/html": [
       "<div>\n",
       "<style scoped>\n",
       "    .dataframe tbody tr th:only-of-type {\n",
       "        vertical-align: middle;\n",
       "    }\n",
       "\n",
       "    .dataframe tbody tr th {\n",
       "        vertical-align: top;\n",
       "    }\n",
       "\n",
       "    .dataframe thead th {\n",
       "        text-align: right;\n",
       "    }\n",
       "</style>\n",
       "<table border=\"1\" class=\"dataframe\">\n",
       "  <thead>\n",
       "    <tr style=\"text-align: right;\">\n",
       "      <th></th>\n",
       "      <th>Ship Mode</th>\n",
       "      <th>Segment</th>\n",
       "      <th>Country</th>\n",
       "      <th>City</th>\n",
       "      <th>State</th>\n",
       "      <th>Region</th>\n",
       "      <th>Category</th>\n",
       "      <th>Sub-Category</th>\n",
       "    </tr>\n",
       "  </thead>\n",
       "  <tbody>\n",
       "    <tr>\n",
       "      <th>count</th>\n",
       "      <td>9977</td>\n",
       "      <td>9977</td>\n",
       "      <td>9977</td>\n",
       "      <td>9977</td>\n",
       "      <td>9977</td>\n",
       "      <td>9977</td>\n",
       "      <td>9977</td>\n",
       "      <td>9977</td>\n",
       "    </tr>\n",
       "    <tr>\n",
       "      <th>unique</th>\n",
       "      <td>4</td>\n",
       "      <td>3</td>\n",
       "      <td>1</td>\n",
       "      <td>531</td>\n",
       "      <td>49</td>\n",
       "      <td>4</td>\n",
       "      <td>3</td>\n",
       "      <td>17</td>\n",
       "    </tr>\n",
       "    <tr>\n",
       "      <th>top</th>\n",
       "      <td>Standard Class</td>\n",
       "      <td>Consumer</td>\n",
       "      <td>United States</td>\n",
       "      <td>New York City</td>\n",
       "      <td>California</td>\n",
       "      <td>West</td>\n",
       "      <td>Office Supplies</td>\n",
       "      <td>Binders</td>\n",
       "    </tr>\n",
       "    <tr>\n",
       "      <th>freq</th>\n",
       "      <td>5955</td>\n",
       "      <td>5183</td>\n",
       "      <td>9977</td>\n",
       "      <td>914</td>\n",
       "      <td>1996</td>\n",
       "      <td>3193</td>\n",
       "      <td>6012</td>\n",
       "      <td>1522</td>\n",
       "    </tr>\n",
       "  </tbody>\n",
       "</table>\n",
       "</div>"
      ],
      "text/plain": [
       "             Ship Mode   Segment        Country           City       State  \\\n",
       "count             9977      9977           9977           9977        9977   \n",
       "unique               4         3              1            531          49   \n",
       "top     Standard Class  Consumer  United States  New York City  California   \n",
       "freq              5955      5183           9977            914        1996   \n",
       "\n",
       "       Region         Category Sub-Category  \n",
       "count    9977             9977         9977  \n",
       "unique      4                3           17  \n",
       "top      West  Office Supplies      Binders  \n",
       "freq     3193             6012         1522  "
      ]
     },
     "execution_count": 31,
     "metadata": {},
     "output_type": "execute_result"
    }
   ],
   "source": [
    "df.describe(include='object')"
   ]
  },
  {
   "cell_type": "markdown",
   "id": "d3c5ac93",
   "metadata": {},
   "source": [
    "---\n",
    "_____\n",
    "#### CHECKING FOR ANY DUPLICATE VALUES\n",
    "---\n",
    "____"
   ]
  },
  {
   "cell_type": "code",
   "execution_count": 32,
   "id": "ab180bb6",
   "metadata": {
    "execution": {
     "iopub.execute_input": "2021-07-16T13:05:04.210905Z",
     "iopub.status.busy": "2021-07-16T13:05:04.210255Z",
     "iopub.status.idle": "2021-07-16T13:05:04.226837Z",
     "shell.execute_reply": "2021-07-16T13:05:04.227441Z",
     "shell.execute_reply.started": "2021-07-11T06:58:25.386007Z"
    },
    "papermill": {
     "duration": 0.059808,
     "end_time": "2021-07-16T13:05:04.227607",
     "exception": false,
     "start_time": "2021-07-16T13:05:04.167799",
     "status": "completed"
    },
    "tags": []
   },
   "outputs": [
    {
     "data": {
      "text/plain": [
       "0"
      ]
     },
     "execution_count": 32,
     "metadata": {},
     "output_type": "execute_result"
    }
   ],
   "source": [
    "df.duplicated().sum()"
   ]
  },
  {
   "cell_type": "markdown",
   "id": "f2a39a5e",
   "metadata": {
    "papermill": {
     "duration": 0.036401,
     "end_time": "2021-07-16T13:05:04.300956",
     "exception": false,
     "start_time": "2021-07-16T13:05:04.264555",
     "status": "completed"
    },
    "tags": []
   },
   "source": [
    ">The dataframe have 17 dupplicates values,hence removing them beforehand using `drop_duplicates()`"
   ]
  },
  {
   "cell_type": "code",
   "execution_count": 10,
   "id": "fe5cbd64",
   "metadata": {
    "execution": {
     "iopub.execute_input": "2021-07-16T13:05:04.378259Z",
     "iopub.status.busy": "2021-07-16T13:05:04.377648Z",
     "iopub.status.idle": "2021-07-16T13:05:04.397024Z",
     "shell.execute_reply": "2021-07-16T13:05:04.396454Z",
     "shell.execute_reply.started": "2021-07-11T06:58:25.409908Z"
    },
    "papermill": {
     "duration": 0.059368,
     "end_time": "2021-07-16T13:05:04.397199",
     "exception": false,
     "start_time": "2021-07-16T13:05:04.337831",
     "status": "completed"
    },
    "tags": []
   },
   "outputs": [],
   "source": [
    "df.drop_duplicates(inplace= True)"
   ]
  },
  {
   "cell_type": "code",
   "execution_count": 33,
   "id": "b629f594",
   "metadata": {
    "execution": {
     "iopub.execute_input": "2021-07-16T13:05:04.474651Z",
     "iopub.status.busy": "2021-07-16T13:05:04.473981Z",
     "iopub.status.idle": "2021-07-16T13:05:04.480103Z",
     "shell.execute_reply": "2021-07-16T13:05:04.479466Z",
     "shell.execute_reply.started": "2021-07-11T06:58:25.43065Z"
    },
    "papermill": {
     "duration": 0.045638,
     "end_time": "2021-07-16T13:05:04.480261",
     "exception": false,
     "start_time": "2021-07-16T13:05:04.434623",
     "status": "completed"
    },
    "tags": []
   },
   "outputs": [
    {
     "data": {
      "text/plain": [
       "(9977, 13)"
      ]
     },
     "execution_count": 33,
     "metadata": {},
     "output_type": "execute_result"
    }
   ],
   "source": [
    "df.shape"
   ]
  },
  {
   "cell_type": "markdown",
   "id": "0f73fa70",
   "metadata": {
    "papermill": {
     "duration": 0.036862,
     "end_time": "2021-07-16T13:05:04.554907",
     "exception": false,
     "start_time": "2021-07-16T13:05:04.518045",
     "status": "completed"
    },
    "tags": []
   },
   "source": [
    ">The Shape has been reduced to `(9977,13)`.                                                                               "
   ]
  },
  {
   "cell_type": "markdown",
   "id": "c635295e",
   "metadata": {},
   "source": [
    "____\n",
    "#### Finding if there Correlations between various columns of the given data. \n",
    "\n",
    "---"
   ]
  },
  {
   "cell_type": "code",
   "execution_count": 37,
   "id": "024593e0",
   "metadata": {},
   "outputs": [
    {
     "data": {
      "text/html": [
       "<div>\n",
       "<style scoped>\n",
       "    .dataframe tbody tr th:only-of-type {\n",
       "        vertical-align: middle;\n",
       "    }\n",
       "\n",
       "    .dataframe tbody tr th {\n",
       "        vertical-align: top;\n",
       "    }\n",
       "\n",
       "    .dataframe thead th {\n",
       "        text-align: right;\n",
       "    }\n",
       "</style>\n",
       "<table border=\"1\" class=\"dataframe\">\n",
       "  <thead>\n",
       "    <tr style=\"text-align: right;\">\n",
       "      <th></th>\n",
       "      <th>Postal Code</th>\n",
       "      <th>Sales</th>\n",
       "      <th>Quantity</th>\n",
       "      <th>Discount</th>\n",
       "      <th>Profit</th>\n",
       "    </tr>\n",
       "  </thead>\n",
       "  <tbody>\n",
       "    <tr>\n",
       "      <th>Postal Code</th>\n",
       "      <td>1.0000</td>\n",
       "      <td>-0.0235</td>\n",
       "      <td>0.0131</td>\n",
       "      <td>0.0592</td>\n",
       "      <td>-0.0299</td>\n",
       "    </tr>\n",
       "    <tr>\n",
       "      <th>Sales</th>\n",
       "      <td>-0.0235</td>\n",
       "      <td>1.0000</td>\n",
       "      <td>0.2007</td>\n",
       "      <td>-0.0283</td>\n",
       "      <td>0.4791</td>\n",
       "    </tr>\n",
       "    <tr>\n",
       "      <th>Quantity</th>\n",
       "      <td>0.0131</td>\n",
       "      <td>0.2007</td>\n",
       "      <td>1.0000</td>\n",
       "      <td>0.0087</td>\n",
       "      <td>0.0662</td>\n",
       "    </tr>\n",
       "    <tr>\n",
       "      <th>Discount</th>\n",
       "      <td>0.0592</td>\n",
       "      <td>-0.0283</td>\n",
       "      <td>0.0087</td>\n",
       "      <td>1.0000</td>\n",
       "      <td>-0.2197</td>\n",
       "    </tr>\n",
       "    <tr>\n",
       "      <th>Profit</th>\n",
       "      <td>-0.0299</td>\n",
       "      <td>0.4791</td>\n",
       "      <td>0.0662</td>\n",
       "      <td>-0.2197</td>\n",
       "      <td>1.0000</td>\n",
       "    </tr>\n",
       "  </tbody>\n",
       "</table>\n",
       "</div>"
      ],
      "text/plain": [
       "             Postal Code   Sales  Quantity  Discount  Profit\n",
       "Postal Code       1.0000 -0.0235    0.0131    0.0592 -0.0299\n",
       "Sales            -0.0235  1.0000    0.2007   -0.0283  0.4791\n",
       "Quantity          0.0131  0.2007    1.0000    0.0087  0.0662\n",
       "Discount          0.0592 -0.0283    0.0087    1.0000 -0.2197\n",
       "Profit           -0.0299  0.4791    0.0662   -0.2197  1.0000"
      ]
     },
     "execution_count": 37,
     "metadata": {},
     "output_type": "execute_result"
    }
   ],
   "source": [
    "df.corr().round(4)"
   ]
  },
  {
   "cell_type": "code",
   "execution_count": 38,
   "id": "26d32c53",
   "metadata": {
    "execution": {
     "iopub.execute_input": "2021-07-16T13:05:04.751619Z",
     "iopub.status.busy": "2021-07-16T13:05:04.750914Z",
     "iopub.status.idle": "2021-07-16T13:05:05.098304Z",
     "shell.execute_reply": "2021-07-16T13:05:05.098942Z",
     "shell.execute_reply.started": "2021-07-11T06:58:25.535299Z"
    },
    "papermill": {
     "duration": 0.388634,
     "end_time": "2021-07-16T13:05:05.099119",
     "exception": false,
     "start_time": "2021-07-16T13:05:04.710485",
     "status": "completed"
    },
    "tags": []
   },
   "outputs": [
    {
     "data": {
      "image/png": "[encoded data removed]",
      "text/plain": [
       "<Figure size 432x288 with 2 Axes>"
      ]
     },
     "metadata": {},
     "output_type": "display_data"
    }
   ],
   "source": [
    "sns.heatmap(df.corr(), annot = True, cmap = 'Reds', lw = 8, linecolor = 'white');"
   ]
  },
  {
   "cell_type": "markdown",
   "id": "a000fa12",
   "metadata": {
    "papermill": {
     "duration": 0.038669,
     "end_time": "2021-07-16T13:05:05.177616",
     "exception": false,
     "start_time": "2021-07-16T13:05:05.138947",
     "status": "completed"
    },
    "tags": []
   },
   "source": [
    "----\n",
    "#### **Analysis:**\n",
    ">We can notice `sales` is fairly related to `profit` and `discount` is negatively related to `profit`.\n",
    "\n",
    "**Higher sales and lesser discounts leads to more profit.**\n",
    "\n",
    "It is also noticable that `postal code` has nothing to do with overall `profit`\n",
    "\n",
    "---"
   ]
  },
  {
   "cell_type": "markdown",
   "id": "29ce5824",
   "metadata": {
    "papermill": {
     "duration": 0.038955,
     "end_time": "2021-07-16T13:05:05.255520",
     "exception": false,
     "start_time": "2021-07-16T13:05:05.216565",
     "status": "completed"
    },
    "tags": []
   },
   "source": [
    "## **Univariate Analysis**"
   ]
  },
  {
   "cell_type": "code",
   "execution_count": 133,
   "id": "0d9225ca",
   "metadata": {},
   "outputs": [
    {
     "data": {
      "text/plain": [
       "<AxesSubplot:xlabel='Ship Mode', ylabel='count'>"
      ]
     },
     "execution_count": 133,
     "metadata": {},
     "output_type": "execute_result"
    },
    {
     "data": {
      "image/png": "[encoded data removed]",
      "text/plain": [
       "<Figure size 432x288 with 1 Axes>"
      ]
     },
     "metadata": {},
     "output_type": "display_data"
    }
   ],
   "source": [
    "sns.countplot(x=df['Ship Mode'],\n",
    "              palette = 'copper',\n",
    "              orient='h')"
   ]
  },
  {
   "cell_type": "code",
   "execution_count": 134,
   "id": "3fbe6001",
   "metadata": {},
   "outputs": [
    {
     "data": {
      "text/plain": [
       "<AxesSubplot:xlabel='Segment', ylabel='count'>"
      ]
     },
     "execution_count": 134,
     "metadata": {},
     "output_type": "execute_result"
    },
    {
     "data": {
      "image/png": "[encoded data removed]",
      "text/plain": [
       "<Figure size 432x288 with 1 Axes>"
      ]
     },
     "metadata": {},
     "output_type": "display_data"
    }
   ],
   "source": [
    "sns.countplot(x=df['Segment'],\n",
    "              palette = 'copper_r',\n",
    "              orient='h')"
   ]
  },
  {
   "cell_type": "code",
   "execution_count": 138,
   "id": "c218e943",
   "metadata": {},
   "outputs": [
    {
     "data": {
      "text/plain": [
       "<AxesSubplot:ylabel='Region'>"
      ]
     },
     "execution_count": 138,
     "metadata": {},
     "output_type": "execute_result"
    },
    {
     "data": {
      "image/png": "[encoded data removed]",
      "text/plain": [
       "<Figure size 432x288 with 1 Axes>"
      ]
     },
     "metadata": {},
     "output_type": "display_data"
    }
   ],
   "source": [
    "df['Region'].value_counts().plot(kind='pie',autopct=\"%.2f\",radius=1.2,explode=[0.15,0.1,0.05,0.01])"
   ]
  },
  {
   "cell_type": "code",
   "execution_count": 137,
   "id": "b4ff3279",
   "metadata": {},
   "outputs": [
    {
     "data": {
      "text/plain": [
       "<AxesSubplot:ylabel='Category'>"
      ]
     },
     "execution_count": 137,
     "metadata": {},
     "output_type": "execute_result"
    },
    {
     "data": {
      "image/png": "[encoded data removed]",
      "text/plain": [
       "<Figure size 432x288 with 1 Axes>"
      ]
     },
     "metadata": {},
     "output_type": "display_data"
    }
   ],
   "source": [
    "df['Category'].value_counts().plot(kind='pie',autopct=\"%.1f%%\",radius=1.2,explode=[0.1,0.05,0.05])"
   ]
  },
  {
   "cell_type": "code",
   "execution_count": 125,
   "id": "eb450c93",
   "metadata": {},
   "outputs": [
    {
     "data": {
      "text/plain": [
       "<AxesSubplot:>"
      ]
     },
     "execution_count": 125,
     "metadata": {},
     "output_type": "execute_result"
    },
    {
     "data": {
      "image/png": "[encoded data removed]",
      "text/plain": [
       "<Figure size 720x360 with 1 Axes>"
      ]
     },
     "metadata": {},
     "output_type": "display_data"
    }
   ],
   "source": [
    "df['Sub-Category'].value_counts().plot(kind='bar',figsize=(10,5),color='violet')"
   ]
  },
  {
   "cell_type": "code",
   "execution_count": 123,
   "id": "fb68c4e8",
   "metadata": {},
   "outputs": [
    {
     "data": {
      "text/plain": [
       "<AxesSubplot:xlabel='Quantity', ylabel='count'>"
      ]
     },
     "execution_count": 123,
     "metadata": {},
     "output_type": "execute_result"
    },
    {
     "data": {
      "image/png": "[encoded data removed]",
      "text/plain": [
       "<Figure size 432x288 with 1 Axes>"
      ]
     },
     "metadata": {},
     "output_type": "display_data"
    }
   ],
   "source": [
    "sns.countplot(x=df['Quantity'],\n",
    "              palette = 'cividis_r',\n",
    "              orient='h')"
   ]
  },
  {
   "cell_type": "markdown",
   "id": "0bae84e7",
   "metadata": {
    "papermill": {
     "duration": 0.040769,
     "end_time": "2021-07-16T13:05:06.796402",
     "exception": false,
     "start_time": "2021-07-16T13:05:06.755633",
     "status": "completed"
    },
    "tags": []
   },
   "source": [
    "---\n",
    "#### **CONCLUSIONS:**\n",
    "\n",
    "* `Standard class` ship-mode is more preferred.\n",
    "* `Consumer` is the major segment.\n",
    "* More Stores are Located in the `West`.\n",
    "* The Major Category of Goods sold are the `Office Supplies`.\n",
    "* Most of the Goods that are purchased are `Binders`, `Paper`,`Furnishings`,`Phones`,`Storages`.\n",
    "\n",
    "---"
   ]
  },
  {
   "cell_type": "markdown",
   "id": "1da71786",
   "metadata": {
    "papermill": {
     "duration": 0.040871,
     "end_time": "2021-07-16T13:05:06.879105",
     "exception": false,
     "start_time": "2021-07-16T13:05:06.838234",
     "status": "completed"
    },
    "tags": []
   },
   "source": [
    "## **Bivariate Analysis**\n",
    "\n",
    "We will be comparing other features to `profit`, `sales` and `quantities` to get a visual idea about what affects the profit most."
   ]
  },
  {
   "cell_type": "markdown",
   "id": "3e44346d",
   "metadata": {
    "papermill": {
     "duration": 0.041366,
     "end_time": "2021-07-16T13:05:06.961265",
     "exception": false,
     "start_time": "2021-07-16T13:05:06.919899",
     "status": "completed"
    },
    "tags": []
   },
   "source": [
    "## 1. Ship-Mode"
   ]
  },
  {
   "cell_type": "code",
   "execution_count": 15,
   "id": "1d3e2184",
   "metadata": {
    "execution": {
     "iopub.execute_input": "2021-07-16T13:05:07.054570Z",
     "iopub.status.busy": "2021-07-16T13:05:07.053922Z",
     "iopub.status.idle": "2021-07-16T13:05:07.065445Z",
     "shell.execute_reply": "2021-07-16T13:05:07.065888Z",
     "shell.execute_reply.started": "2021-07-11T06:58:27.915732Z"
    },
    "papermill": {
     "duration": 0.062577,
     "end_time": "2021-07-16T13:05:07.066065",
     "exception": false,
     "start_time": "2021-07-16T13:05:07.003488",
     "status": "completed"
    },
    "tags": []
   },
   "outputs": [
    {
     "data": {
      "text/html": [
       "<div>\n",
       "<style scoped>\n",
       "    .dataframe tbody tr th:only-of-type {\n",
       "        vertical-align: middle;\n",
       "    }\n",
       "\n",
       "    .dataframe tbody tr th {\n",
       "        vertical-align: top;\n",
       "    }\n",
       "\n",
       "    .dataframe thead th {\n",
       "        text-align: right;\n",
       "    }\n",
       "</style>\n",
       "<table border=\"1\" class=\"dataframe\">\n",
       "  <thead>\n",
       "    <tr style=\"text-align: right;\">\n",
       "      <th></th>\n",
       "      <th>Profit</th>\n",
       "      <th>Sales</th>\n",
       "      <th>Quantity</th>\n",
       "    </tr>\n",
       "    <tr>\n",
       "      <th>Ship Mode</th>\n",
       "      <th></th>\n",
       "      <th></th>\n",
       "      <th></th>\n",
       "    </tr>\n",
       "  </thead>\n",
       "  <tbody>\n",
       "    <tr>\n",
       "      <th>First Class</th>\n",
       "      <td>48953.6561</td>\n",
       "      <td>3.513805e+05</td>\n",
       "      <td>5690</td>\n",
       "    </tr>\n",
       "    <tr>\n",
       "      <th>Same Day</th>\n",
       "      <td>15871.8869</td>\n",
       "      <td>1.283217e+05</td>\n",
       "      <td>1956</td>\n",
       "    </tr>\n",
       "    <tr>\n",
       "      <th>Second Class</th>\n",
       "      <td>57446.6516</td>\n",
       "      <td>4.591770e+05</td>\n",
       "      <td>7418</td>\n",
       "    </tr>\n",
       "    <tr>\n",
       "      <th>Standard Class</th>\n",
       "      <td>163969.2280</td>\n",
       "      <td>1.357316e+06</td>\n",
       "      <td>22756</td>\n",
       "    </tr>\n",
       "  </tbody>\n",
       "</table>\n",
       "</div>"
      ],
      "text/plain": [
       "                     Profit         Sales  Quantity\n",
       "Ship Mode                                          \n",
       "First Class      48953.6561  3.513805e+05      5690\n",
       "Same Day         15871.8869  1.283217e+05      1956\n",
       "Second Class     57446.6516  4.591770e+05      7418\n",
       "Standard Class  163969.2280  1.357316e+06     22756"
      ]
     },
     "execution_count": 15,
     "metadata": {},
     "output_type": "execute_result"
    }
   ],
   "source": [
    "ship_df = pd.DataFrame(df.groupby(['Ship Mode'])[['Profit','Sales', 'Quantity']].sum())\n",
    "ship_df"
   ]
  },
  {
   "cell_type": "code",
   "execution_count": 149,
   "id": "830f71ed",
   "metadata": {
    "execution": {
     "iopub.execute_input": "2021-07-16T13:05:07.198322Z",
     "iopub.status.busy": "2021-07-16T13:05:07.195414Z",
     "iopub.status.idle": "2021-07-16T13:05:07.753856Z",
     "shell.execute_reply": "2021-07-16T13:05:07.753334Z",
     "shell.execute_reply.started": "2021-07-11T06:58:27.938171Z"
    },
    "papermill": {
     "duration": 0.646386,
     "end_time": "2021-07-16T13:05:07.754010",
     "exception": false,
     "start_time": "2021-07-16T13:05:07.107624",
     "status": "completed"
    },
    "tags": []
   },
   "outputs": [
    {
     "data": {
      "image/png": "[encoded data removed]",
      "text/plain": [
       "<Figure size 1440x576 with 2 Axes>"
      ]
     },
     "metadata": {},
     "output_type": "display_data"
    }
   ],
   "source": [
    "fig, axes = plt.subplots(1,2, figsize=(20,8))\n",
    "sns.set_theme(style=\"darkgrid\")\n",
    "axes[0].set_title(\"Ship mode to Sales\")\n",
    "axes[1].set_title(\"Ship mode to Quantity\")\n",
    "\n",
    "sns.barplot(x=ship_df.index,\n",
    "           y=ship_df['Sales'],\n",
    "           data= ship_df,\n",
    "            palette = 'Spectral_r',\n",
    "           ax = axes[0]);\n",
    "\n",
    "sns.barplot(x=ship_df.index,\n",
    "           y=ship_df['Quantity'],\n",
    "           data= ship_df,\n",
    "            palette = 'Spectral_r',\n",
    "           ax = axes[1])\n",
    "\n",
    "plt.tight_layout(pad=2);"
   ]
  },
  {
   "cell_type": "markdown",
   "id": "e687e35e",
   "metadata": {
    "papermill": {
     "duration": 0.043592,
     "end_time": "2021-07-16T13:05:07.840885",
     "exception": false,
     "start_time": "2021-07-16T13:05:07.797293",
     "status": "completed"
    },
    "tags": []
   },
   "source": [
    "\n",
    ">**Interpretation:**                                                                                                                                                                              \n",
    ">The `Standard class` Ship-mode is the most preferred one. Might be because it is cheap and efficient.\n",
    "\n"
   ]
  },
  {
   "cell_type": "markdown",
   "id": "f07e96a4",
   "metadata": {
    "papermill": {
     "duration": 0.042726,
     "end_time": "2021-07-16T13:05:07.927209",
     "exception": false,
     "start_time": "2021-07-16T13:05:07.884483",
     "status": "completed"
    },
    "tags": []
   },
   "source": [
    "---\n",
    "## 2. Segment\n",
    "----"
   ]
  },
  {
   "cell_type": "code",
   "execution_count": 17,
   "id": "6200ca6b",
   "metadata": {
    "execution": {
     "iopub.execute_input": "2021-07-16T13:05:08.022977Z",
     "iopub.status.busy": "2021-07-16T13:05:08.022307Z",
     "iopub.status.idle": "2021-07-16T13:05:08.034014Z",
     "shell.execute_reply": "2021-07-16T13:05:08.033327Z",
     "shell.execute_reply.started": "2021-07-11T06:58:28.620514Z"
    },
    "papermill": {
     "duration": 0.062983,
     "end_time": "2021-07-16T13:05:08.034208",
     "exception": false,
     "start_time": "2021-07-16T13:05:07.971225",
     "status": "completed"
    },
    "tags": []
   },
   "outputs": [
    {
     "data": {
      "text/html": [
       "<div>\n",
       "<style scoped>\n",
       "    .dataframe tbody tr th:only-of-type {\n",
       "        vertical-align: middle;\n",
       "    }\n",
       "\n",
       "    .dataframe tbody tr th {\n",
       "        vertical-align: top;\n",
       "    }\n",
       "\n",
       "    .dataframe thead th {\n",
       "        text-align: right;\n",
       "    }\n",
       "</style>\n",
       "<table border=\"1\" class=\"dataframe\">\n",
       "  <thead>\n",
       "    <tr style=\"text-align: right;\">\n",
       "      <th></th>\n",
       "      <th>Profit</th>\n",
       "      <th>Sales</th>\n",
       "      <th>Quantity</th>\n",
       "    </tr>\n",
       "    <tr>\n",
       "      <th>Segment</th>\n",
       "      <th></th>\n",
       "      <th></th>\n",
       "      <th></th>\n",
       "    </tr>\n",
       "  </thead>\n",
       "  <tbody>\n",
       "    <tr>\n",
       "      <th>Consumer</th>\n",
       "      <td>134007.4413</td>\n",
       "      <td>1.160833e+06</td>\n",
       "      <td>19497</td>\n",
       "    </tr>\n",
       "    <tr>\n",
       "      <th>Corporate</th>\n",
       "      <td>91954.9798</td>\n",
       "      <td>7.060701e+05</td>\n",
       "      <td>11591</td>\n",
       "    </tr>\n",
       "    <tr>\n",
       "      <th>Home Office</th>\n",
       "      <td>60279.0015</td>\n",
       "      <td>4.292927e+05</td>\n",
       "      <td>6732</td>\n",
       "    </tr>\n",
       "  </tbody>\n",
       "</table>\n",
       "</div>"
      ],
      "text/plain": [
       "                  Profit         Sales  Quantity\n",
       "Segment                                         \n",
       "Consumer     134007.4413  1.160833e+06     19497\n",
       "Corporate     91954.9798  7.060701e+05     11591\n",
       "Home Office   60279.0015  4.292927e+05      6732"
      ]
     },
     "execution_count": 17,
     "metadata": {},
     "output_type": "execute_result"
    }
   ],
   "source": [
    "segment_df = pd.DataFrame(df.groupby(['Segment'])[['Profit', 'Sales', 'Quantity']].sum())\n",
    "segment_df"
   ]
  },
  {
   "cell_type": "code",
   "execution_count": 18,
   "id": "dac80376",
   "metadata": {
    "execution": {
     "iopub.execute_input": "2021-07-16T13:05:08.219670Z",
     "iopub.status.busy": "2021-07-16T13:05:08.168355Z",
     "iopub.status.idle": "2021-07-16T13:05:08.678226Z",
     "shell.execute_reply": "2021-07-16T13:05:08.678729Z",
     "shell.execute_reply.started": "2021-07-11T06:58:28.639561Z"
    },
    "papermill": {
     "duration": 0.599926,
     "end_time": "2021-07-16T13:05:08.678901",
     "exception": false,
     "start_time": "2021-07-16T13:05:08.078975",
     "status": "completed"
    },
    "tags": []
   },
   "outputs": [
    {
     "data": {
      "image/png": "[encoded data removed]",
      "text/plain": [
       "<Figure size 864x432 with 3 Axes>"
      ]
     },
     "metadata": {},
     "output_type": "display_data"
    }
   ],
   "source": [
    "fig, axes = plt.subplots(1,3, figsize=(12,6))\n",
    "\n",
    "sns.set_theme(style=\"darkgrid\")\n",
    "axes[0].set_title(\"Segment to Profit\")\n",
    "axes[1].set_title(\"Segment to Sales\")\n",
    "axes[2].set_title(\"Segment to Quantity\")\n",
    "\n",
    "sns.barplot(x=segment_df.index,\n",
    "           y=segment_df['Profit'],\n",
    "           data= segment_df,\n",
    "            palette = 'Reds_r',\n",
    "           ax= axes[0])\n",
    "\n",
    "sns.barplot(x=segment_df.index,\n",
    "           y=segment_df['Sales'],\n",
    "           data= segment_df,\n",
    "            palette = 'Reds_r',\n",
    "           ax= axes[1])\n",
    "\n",
    "sns.barplot(x=segment_df.index,\n",
    "           y=segment_df['Quantity'],\n",
    "           data= segment_df,\n",
    "            palette = 'Reds_r',\n",
    "           ax= axes[2])\n",
    "\n",
    "plt.tight_layout(pad=2);"
   ]
  },
  {
   "cell_type": "markdown",
   "id": "59ffaea4",
   "metadata": {
    "papermill": {
     "duration": 0.046347,
     "end_time": "2021-07-16T13:05:08.770031",
     "exception": false,
     "start_time": "2021-07-16T13:05:08.723684",
     "status": "completed"
    },
    "tags": []
   },
   "source": [
    "---\n",
    "**Interpretation:**\n",
    "\n",
    "Most of the Profit is obtained from `Consumer` and the `Corporate Segment`. Hence focussing more and improvising the service for this two Segments can help grow even more.\n",
    "\n",
    "---"
   ]
  },
  {
   "cell_type": "markdown",
   "id": "1d18beec",
   "metadata": {
    "papermill": {
     "duration": 0.044729,
     "end_time": "2021-07-16T13:05:08.861213",
     "exception": false,
     "start_time": "2021-07-16T13:05:08.816484",
     "status": "completed"
    },
    "tags": []
   },
   "source": [
    "## 3. Region"
   ]
  },
  {
   "cell_type": "code",
   "execution_count": 19,
   "id": "678afa82",
   "metadata": {
    "execution": {
     "iopub.execute_input": "2021-07-16T13:05:08.960121Z",
     "iopub.status.busy": "2021-07-16T13:05:08.959036Z",
     "iopub.status.idle": "2021-07-16T13:05:08.970503Z",
     "shell.execute_reply": "2021-07-16T13:05:08.970997Z",
     "shell.execute_reply.started": "2021-07-11T06:58:29.250637Z"
    },
    "papermill": {
     "duration": 0.064555,
     "end_time": "2021-07-16T13:05:08.971189",
     "exception": false,
     "start_time": "2021-07-16T13:05:08.906634",
     "status": "completed"
    },
    "tags": []
   },
   "outputs": [
    {
     "data": {
      "text/html": [
       "<div>\n",
       "<style scoped>\n",
       "    .dataframe tbody tr th:only-of-type {\n",
       "        vertical-align: middle;\n",
       "    }\n",
       "\n",
       "    .dataframe tbody tr th {\n",
       "        vertical-align: top;\n",
       "    }\n",
       "\n",
       "    .dataframe thead th {\n",
       "        text-align: right;\n",
       "    }\n",
       "</style>\n",
       "<table border=\"1\" class=\"dataframe\">\n",
       "  <thead>\n",
       "    <tr style=\"text-align: right;\">\n",
       "      <th></th>\n",
       "      <th>Profit</th>\n",
       "      <th>Sales</th>\n",
       "      <th>Quantity</th>\n",
       "    </tr>\n",
       "    <tr>\n",
       "      <th>Region</th>\n",
       "      <th></th>\n",
       "      <th></th>\n",
       "      <th></th>\n",
       "    </tr>\n",
       "  </thead>\n",
       "  <tbody>\n",
       "    <tr>\n",
       "      <th>Central</th>\n",
       "      <td>39655.8752</td>\n",
       "      <td>500782.8528</td>\n",
       "      <td>8768</td>\n",
       "    </tr>\n",
       "    <tr>\n",
       "      <th>East</th>\n",
       "      <td>91506.3092</td>\n",
       "      <td>678435.1960</td>\n",
       "      <td>10609</td>\n",
       "    </tr>\n",
       "    <tr>\n",
       "      <th>South</th>\n",
       "      <td>46749.4303</td>\n",
       "      <td>391721.9050</td>\n",
       "      <td>6209</td>\n",
       "    </tr>\n",
       "    <tr>\n",
       "      <th>West</th>\n",
       "      <td>108329.8079</td>\n",
       "      <td>725255.6365</td>\n",
       "      <td>12234</td>\n",
       "    </tr>\n",
       "  </tbody>\n",
       "</table>\n",
       "</div>"
      ],
      "text/plain": [
       "              Profit        Sales  Quantity\n",
       "Region                                     \n",
       "Central   39655.8752  500782.8528      8768\n",
       "East      91506.3092  678435.1960     10609\n",
       "South     46749.4303  391721.9050      6209\n",
       "West     108329.8079  725255.6365     12234"
      ]
     },
     "execution_count": 19,
     "metadata": {},
     "output_type": "execute_result"
    }
   ],
   "source": [
    "region_df = pd.DataFrame(df.groupby(['Region'])[['Profit', 'Sales', 'Quantity']].sum())\n",
    "region_df"
   ]
  },
  {
   "cell_type": "code",
   "execution_count": 151,
   "id": "221e18d4",
   "metadata": {
    "execution": {
     "iopub.execute_input": "2021-07-16T13:05:09.067140Z",
     "iopub.status.busy": "2021-07-16T13:05:09.066420Z",
     "iopub.status.idle": "2021-07-16T13:05:09.637503Z",
     "shell.execute_reply": "2021-07-16T13:05:09.636902Z",
     "shell.execute_reply.started": "2021-07-11T06:58:29.270362Z"
    },
    "papermill": {
     "duration": 0.619503,
     "end_time": "2021-07-16T13:05:09.637662",
     "exception": false,
     "start_time": "2021-07-16T13:05:09.018159",
     "status": "completed"
    },
    "tags": []
   },
   "outputs": [
    {
     "data": {
      "image/png": "[encoded data removed]",
      "text/plain": [
       "<Figure size 1008x360 with 2 Axes>"
      ]
     },
     "metadata": {},
     "output_type": "display_data"
    }
   ],
   "source": [
    "fig, axes = plt.subplots(1,2, figsize=(14,5))\n",
    "\n",
    "sns.set_theme(style=\"darkgrid\")\n",
    "axes[0].set_title(\"Region vs Profit\")\n",
    "axes[1].set_title(\"Region vs Sales\")\n",
    "\n",
    "sns.barplot(x=region_df.index,\n",
    "           y='Profit',\n",
    "           data=region_df,\n",
    "           palette='Paired',\n",
    "           ax=axes[0])\n",
    "\n",
    "sns.barplot(x=region_df.index,\n",
    "           y='Sales',\n",
    "           data=region_df,\n",
    "           palette='Paired',\n",
    "           ax=axes[1])\n",
    "\n",
    "plt.tight_layout(pad=1);"
   ]
  },
  {
   "cell_type": "markdown",
   "id": "6aeadbb2",
   "metadata": {
    "papermill": {
     "duration": 0.048541,
     "end_time": "2021-07-16T13:05:09.733037",
     "exception": false,
     "start_time": "2021-07-16T13:05:09.684496",
     "status": "completed"
    },
    "tags": []
   },
   "source": [
    "---\n",
    "**Interpretation:**\n",
    "\n",
    "Among the all regions, the West and East region recorded most of the profit. So, There should be focus on the `East` and `West` region to keep up with the Profits.\n",
    "\n",
    "Even though there is considerably high sales in the `Cental` and `South` Regions the Profit aren't as much expected.Hence more focus should be given to check for this absurbdity and try improve the Profit of the Stores in this Regions. \n",
    "\n",
    "---"
   ]
  },
  {
   "cell_type": "markdown",
   "id": "a823779a",
   "metadata": {
    "papermill": {
     "duration": 0.0518,
     "end_time": "2021-07-16T13:05:09.831632",
     "exception": false,
     "start_time": "2021-07-16T13:05:09.779832",
     "status": "completed"
    },
    "tags": []
   },
   "source": [
    "## 4. Category"
   ]
  },
  {
   "cell_type": "code",
   "execution_count": 21,
   "id": "6dbe455f",
   "metadata": {
    "execution": {
     "iopub.execute_input": "2021-07-16T13:05:09.933140Z",
     "iopub.status.busy": "2021-07-16T13:05:09.932455Z",
     "iopub.status.idle": "2021-07-16T13:05:09.944300Z",
     "shell.execute_reply": "2021-07-16T13:05:09.943709Z",
     "shell.execute_reply.started": "2021-07-11T06:58:29.894748Z"
    },
    "papermill": {
     "duration": 0.066348,
     "end_time": "2021-07-16T13:05:09.944447",
     "exception": false,
     "start_time": "2021-07-16T13:05:09.878099",
     "status": "completed"
    },
    "tags": []
   },
   "outputs": [
    {
     "data": {
      "text/html": [
       "<div>\n",
       "<style scoped>\n",
       "    .dataframe tbody tr th:only-of-type {\n",
       "        vertical-align: middle;\n",
       "    }\n",
       "\n",
       "    .dataframe tbody tr th {\n",
       "        vertical-align: top;\n",
       "    }\n",
       "\n",
       "    .dataframe thead th {\n",
       "        text-align: right;\n",
       "    }\n",
       "</style>\n",
       "<table border=\"1\" class=\"dataframe\">\n",
       "  <thead>\n",
       "    <tr style=\"text-align: right;\">\n",
       "      <th></th>\n",
       "      <th>Profit</th>\n",
       "      <th>Sales</th>\n",
       "      <th>Quantity</th>\n",
       "    </tr>\n",
       "    <tr>\n",
       "      <th>Category</th>\n",
       "      <th></th>\n",
       "      <th></th>\n",
       "      <th></th>\n",
       "    </tr>\n",
       "  </thead>\n",
       "  <tbody>\n",
       "    <tr>\n",
       "      <th>Furniture</th>\n",
       "      <td>18421.8137</td>\n",
       "      <td>741306.3133</td>\n",
       "      <td>8020</td>\n",
       "    </tr>\n",
       "    <tr>\n",
       "      <th>Office Supplies</th>\n",
       "      <td>122364.6608</td>\n",
       "      <td>718735.2440</td>\n",
       "      <td>22861</td>\n",
       "    </tr>\n",
       "    <tr>\n",
       "      <th>Technology</th>\n",
       "      <td>145454.9481</td>\n",
       "      <td>836154.0330</td>\n",
       "      <td>6939</td>\n",
       "    </tr>\n",
       "  </tbody>\n",
       "</table>\n",
       "</div>"
      ],
      "text/plain": [
       "                      Profit        Sales  Quantity\n",
       "Category                                           \n",
       "Furniture         18421.8137  741306.3133      8020\n",
       "Office Supplies  122364.6608  718735.2440     22861\n",
       "Technology       145454.9481  836154.0330      6939"
      ]
     },
     "execution_count": 21,
     "metadata": {},
     "output_type": "execute_result"
    }
   ],
   "source": [
    "category_df = pd.DataFrame(df.groupby(['Category'])[['Profit', 'Sales', 'Quantity']].sum())\n",
    "category_df"
   ]
  },
  {
   "cell_type": "code",
   "execution_count": 22,
   "id": "21611668",
   "metadata": {
    "execution": {
     "iopub.execute_input": "2021-07-16T13:05:10.272263Z",
     "iopub.status.busy": "2021-07-16T13:05:10.270985Z",
     "iopub.status.idle": "2021-07-16T13:05:10.735448Z",
     "shell.execute_reply": "2021-07-16T13:05:10.734870Z",
     "shell.execute_reply.started": "2021-07-11T06:58:29.914303Z"
    },
    "papermill": {
     "duration": 0.742277,
     "end_time": "2021-07-16T13:05:10.735626",
     "exception": false,
     "start_time": "2021-07-16T13:05:09.993349",
     "status": "completed"
    },
    "tags": []
   },
   "outputs": [
    {
     "data": {
      "image/png": "[encoded data removed]",
      "text/plain": [
       "<Figure size 1008x360 with 3 Axes>"
      ]
     },
     "metadata": {},
     "output_type": "display_data"
    }
   ],
   "source": [
    "fig, axes = plt.subplots(1,3, figsize=(14,5))\n",
    "\n",
    "sns.set_theme(style=\"darkgrid\")\n",
    "axes[0].set_title(\"Category vs Profit\")\n",
    "axes[1].set_title(\"Category vs Sales\")\n",
    "axes[2].set_title(\"Category vs Quantity\")\n",
    "\n",
    "sns.barplot(x=category_df.index,\n",
    "           y='Profit',\n",
    "           data=category_df,\n",
    "           palette='Pastel2',\n",
    "           ax=axes[0])\n",
    "\n",
    "sns.barplot(x=category_df.index,\n",
    "           y='Sales',\n",
    "           data=category_df,\n",
    "           palette='Pastel2',\n",
    "           ax=axes[1])\n",
    "\n",
    "sns.barplot(x=category_df.index,\n",
    "           y='Quantity',\n",
    "           data=category_df,\n",
    "           palette='Pastel2',\n",
    "           ax=axes[2])\n",
    "\n",
    "plt.tight_layout(pad=1);"
   ]
  },
  {
   "cell_type": "markdown",
   "id": "f9a8439b",
   "metadata": {
    "papermill": {
     "duration": 0.04808,
     "end_time": "2021-07-16T13:05:10.832916",
     "exception": false,
     "start_time": "2021-07-16T13:05:10.784836",
     "status": "completed"
    },
    "tags": []
   },
   "source": [
    "---\n",
    "**Interpretation:**\n",
    "\n",
    "Most Profit is incurred from the `Technology`,even though the quantity of items purchased are less.\n",
    "\n",
    "Also the`Office Supplies` make a pretty much part of the Profit,also the Quantity of Items purchased are more.\n",
    "\n",
    "---"
   ]
  },
  {
   "cell_type": "markdown",
   "id": "a2196eab",
   "metadata": {
    "papermill": {
     "duration": 0.047628,
     "end_time": "2021-07-16T13:05:10.928659",
     "exception": false,
     "start_time": "2021-07-16T13:05:10.881031",
     "status": "completed"
    },
    "tags": []
   },
   "source": [
    "## 5. Sub-Category"
   ]
  },
  {
   "cell_type": "code",
   "execution_count": 23,
   "id": "f106d4cf",
   "metadata": {
    "execution": {
     "iopub.execute_input": "2021-07-16T13:05:11.035476Z",
     "iopub.status.busy": "2021-07-16T13:05:11.034388Z",
     "iopub.status.idle": "2021-07-16T13:05:11.049280Z",
     "shell.execute_reply": "2021-07-16T13:05:11.049811Z",
     "shell.execute_reply.started": "2021-07-11T06:58:30.503983Z"
    },
    "papermill": {
     "duration": 0.071466,
     "end_time": "2021-07-16T13:05:11.049976",
     "exception": false,
     "start_time": "2021-07-16T13:05:10.978510",
     "status": "completed"
    },
    "tags": []
   },
   "outputs": [
    {
     "data": {
      "text/html": [
       "<div>\n",
       "<style scoped>\n",
       "    .dataframe tbody tr th:only-of-type {\n",
       "        vertical-align: middle;\n",
       "    }\n",
       "\n",
       "    .dataframe tbody tr th {\n",
       "        vertical-align: top;\n",
       "    }\n",
       "\n",
       "    .dataframe thead th {\n",
       "        text-align: right;\n",
       "    }\n",
       "</style>\n",
       "<table border=\"1\" class=\"dataframe\">\n",
       "  <thead>\n",
       "    <tr style=\"text-align: right;\">\n",
       "      <th></th>\n",
       "      <th>Profit</th>\n",
       "      <th>Sales</th>\n",
       "      <th>Quantity</th>\n",
       "    </tr>\n",
       "    <tr>\n",
       "      <th>Sub-Category</th>\n",
       "      <th></th>\n",
       "      <th></th>\n",
       "      <th></th>\n",
       "    </tr>\n",
       "  </thead>\n",
       "  <tbody>\n",
       "    <tr>\n",
       "      <th>Accessories</th>\n",
       "      <td>41936.6357</td>\n",
       "      <td>167380.3180</td>\n",
       "      <td>2976</td>\n",
       "    </tr>\n",
       "    <tr>\n",
       "      <th>Appliances</th>\n",
       "      <td>18138.0054</td>\n",
       "      <td>107532.1610</td>\n",
       "      <td>1729</td>\n",
       "    </tr>\n",
       "    <tr>\n",
       "      <th>Art</th>\n",
       "      <td>6524.6118</td>\n",
       "      <td>27107.0320</td>\n",
       "      <td>2996</td>\n",
       "    </tr>\n",
       "    <tr>\n",
       "      <th>Binders</th>\n",
       "      <td>30228.0003</td>\n",
       "      <td>203409.1690</td>\n",
       "      <td>5971</td>\n",
       "    </tr>\n",
       "    <tr>\n",
       "      <th>Bookcases</th>\n",
       "      <td>-3472.5560</td>\n",
       "      <td>114879.9963</td>\n",
       "      <td>868</td>\n",
       "    </tr>\n",
       "    <tr>\n",
       "      <th>Chairs</th>\n",
       "      <td>26567.1278</td>\n",
       "      <td>327777.7610</td>\n",
       "      <td>2351</td>\n",
       "    </tr>\n",
       "    <tr>\n",
       "      <th>Copiers</th>\n",
       "      <td>55617.8249</td>\n",
       "      <td>149528.0300</td>\n",
       "      <td>234</td>\n",
       "    </tr>\n",
       "    <tr>\n",
       "      <th>Envelopes</th>\n",
       "      <td>6964.1767</td>\n",
       "      <td>16476.4020</td>\n",
       "      <td>906</td>\n",
       "    </tr>\n",
       "    <tr>\n",
       "      <th>Fasteners</th>\n",
       "      <td>949.5182</td>\n",
       "      <td>3024.2800</td>\n",
       "      <td>914</td>\n",
       "    </tr>\n",
       "    <tr>\n",
       "      <th>Furnishings</th>\n",
       "      <td>13052.7230</td>\n",
       "      <td>91683.0240</td>\n",
       "      <td>3560</td>\n",
       "    </tr>\n",
       "    <tr>\n",
       "      <th>Labels</th>\n",
       "      <td>5526.3820</td>\n",
       "      <td>12444.9120</td>\n",
       "      <td>1396</td>\n",
       "    </tr>\n",
       "    <tr>\n",
       "      <th>Machines</th>\n",
       "      <td>3384.7569</td>\n",
       "      <td>189238.6310</td>\n",
       "      <td>440</td>\n",
       "    </tr>\n",
       "    <tr>\n",
       "      <th>Paper</th>\n",
       "      <td>33944.2395</td>\n",
       "      <td>78224.1420</td>\n",
       "      <td>5144</td>\n",
       "    </tr>\n",
       "    <tr>\n",
       "      <th>Phones</th>\n",
       "      <td>44515.7306</td>\n",
       "      <td>330007.0540</td>\n",
       "      <td>3289</td>\n",
       "    </tr>\n",
       "    <tr>\n",
       "      <th>Storage</th>\n",
       "      <td>21278.8264</td>\n",
       "      <td>223843.6080</td>\n",
       "      <td>3158</td>\n",
       "    </tr>\n",
       "    <tr>\n",
       "      <th>Supplies</th>\n",
       "      <td>-1189.0995</td>\n",
       "      <td>46673.5380</td>\n",
       "      <td>647</td>\n",
       "    </tr>\n",
       "    <tr>\n",
       "      <th>Tables</th>\n",
       "      <td>-17725.4811</td>\n",
       "      <td>206965.5320</td>\n",
       "      <td>1241</td>\n",
       "    </tr>\n",
       "  </tbody>\n",
       "</table>\n",
       "</div>"
      ],
      "text/plain": [
       "                  Profit        Sales  Quantity\n",
       "Sub-Category                                   \n",
       "Accessories   41936.6357  167380.3180      2976\n",
       "Appliances    18138.0054  107532.1610      1729\n",
       "Art            6524.6118   27107.0320      2996\n",
       "Binders       30228.0003  203409.1690      5971\n",
       "Bookcases     -3472.5560  114879.9963       868\n",
       "Chairs        26567.1278  327777.7610      2351\n",
       "Copiers       55617.8249  149528.0300       234\n",
       "Envelopes      6964.1767   16476.4020       906\n",
       "Fasteners       949.5182    3024.2800       914\n",
       "Furnishings   13052.7230   91683.0240      3560\n",
       "Labels         5526.3820   12444.9120      1396\n",
       "Machines       3384.7569  189238.6310       440\n",
       "Paper         33944.2395   78224.1420      5144\n",
       "Phones        44515.7306  330007.0540      3289\n",
       "Storage       21278.8264  223843.6080      3158\n",
       "Supplies      -1189.0995   46673.5380       647\n",
       "Tables       -17725.4811  206965.5320      1241"
      ]
     },
     "execution_count": 23,
     "metadata": {},
     "output_type": "execute_result"
    }
   ],
   "source": [
    "sub_category_df = pd.DataFrame(df.groupby(['Sub-Category'])[['Profit', 'Sales', 'Quantity']].sum())\n",
    "sub_category_df"
   ]
  },
  {
   "cell_type": "code",
   "execution_count": 168,
   "id": "940a2e8d",
   "metadata": {
    "execution": {
     "iopub.execute_input": "2021-07-16T13:05:11.150597Z",
     "iopub.status.busy": "2021-07-16T13:05:11.149653Z",
     "iopub.status.idle": "2021-07-16T13:05:12.271540Z",
     "shell.execute_reply": "2021-07-16T13:05:12.272012Z",
     "shell.execute_reply.started": "2021-07-11T06:58:30.525228Z"
    },
    "papermill": {
     "duration": 1.17384,
     "end_time": "2021-07-16T13:05:12.272218",
     "exception": false,
     "start_time": "2021-07-16T13:05:11.098378",
     "status": "completed"
    },
    "tags": []
   },
   "outputs": [
    {
     "data": {
      "image/png": "[encoded data removed]",
      "text/plain": [
       "<Figure size 720x1296 with 2 Axes>"
      ]
     },
     "metadata": {},
     "output_type": "display_data"
    }
   ],
   "source": [
    "fig, axes = plt.subplots(2,1, figsize=(10,18))\n",
    "\n",
    "sns.set_theme(style=\"darkgrid\")\n",
    "axes[0].set_title(\"Sub-Category vs Profit\")\n",
    "axes[1].set_title(\"Sub-Category vs Sales\")\n",
    "\n",
    "sns.barplot(y=sub_category_df.index,\n",
    "           x='Profit',\n",
    "           data=sub_category_df,\n",
    "           palette='icefire',\n",
    "           ax=axes[0])\n",
    "\n",
    "sns.barplot(y=sub_category_df.index,\n",
    "           x='Sales',\n",
    "           data=sub_category_df,\n",
    "           palette='icefire',\n",
    "           ax=axes[1])\n",
    "plt.tight_layout(pad=3);"
   ]
  },
  {
   "cell_type": "markdown",
   "id": "bd500fef",
   "metadata": {
    "papermill": {
     "duration": 0.051303,
     "end_time": "2021-07-16T13:05:12.375260",
     "exception": false,
     "start_time": "2021-07-16T13:05:12.323957",
     "status": "completed"
    },
    "tags": []
   },
   "source": [
    "---\n",
    "**Analysis:**\n",
    "\n",
    "* `Tables`,`Bookcases`,`Supplies` are the loss incurring goods.\n",
    "* `Copiers`,`Phones`,`Accessories` are the most Profit making goods.\n",
    "* `Chairs`,`Phones`,`Storage`,`Accessories` have the highest Sales.\n",
    "\n",
    "---"
   ]
  },
  {
   "cell_type": "markdown",
   "id": "d1a04641",
   "metadata": {
    "papermill": {
     "duration": 0.051583,
     "end_time": "2021-07-16T13:05:12.478645",
     "exception": false,
     "start_time": "2021-07-16T13:05:12.427062",
     "status": "completed"
    },
    "tags": []
   },
   "source": [
    "## 6. Cities"
   ]
  },
  {
   "cell_type": "code",
   "execution_count": 163,
   "id": "9874a858",
   "metadata": {
    "execution": {
     "iopub.execute_input": "2021-07-16T13:05:12.585305Z",
     "iopub.status.busy": "2021-07-16T13:05:12.584627Z",
     "iopub.status.idle": "2021-07-16T13:05:12.595367Z",
     "shell.execute_reply": "2021-07-16T13:05:12.595848Z",
     "shell.execute_reply.started": "2021-07-11T06:58:31.696085Z"
    },
    "papermill": {
     "duration": 0.065648,
     "end_time": "2021-07-16T13:05:12.596044",
     "exception": false,
     "start_time": "2021-07-16T13:05:12.530396",
     "status": "completed"
    },
    "tags": []
   },
   "outputs": [],
   "source": [
    "cities_df = pd.DataFrame(df.groupby(['City'])[['Profit', 'Sales', 'Quantity']].sum().sort_values('Profit',ascending = False))\n",
    "top10 = cities_df.head(10)\n",
    "last10 = cities_df.tail(10)\n",
    "high_low = top10.append(last10)"
   ]
  },
  {
   "cell_type": "code",
   "execution_count": 164,
   "id": "c66a8caa",
   "metadata": {
    "execution": {
     "iopub.execute_input": "2021-07-16T13:05:12.702080Z",
     "iopub.status.busy": "2021-07-16T13:05:12.701450Z",
     "iopub.status.idle": "2021-07-16T13:05:12.705807Z",
     "shell.execute_reply": "2021-07-16T13:05:12.706311Z",
     "shell.execute_reply.started": "2021-07-11T06:58:31.708606Z"
    },
    "papermill": {
     "duration": 0.059248,
     "end_time": "2021-07-16T13:05:12.706506",
     "exception": false,
     "start_time": "2021-07-16T13:05:12.647258",
     "status": "completed"
    },
    "tags": []
   },
   "outputs": [],
   "source": [
    "cities_df = pd.DataFrame(df.groupby(['City'])[['Profit', 'Sales', 'Quantity']].sum().sort_values('Sales',ascending = False))\n",
    "top20= cities_df.head(20)"
   ]
  },
  {
   "cell_type": "code",
   "execution_count": 165,
   "id": "7685f651",
   "metadata": {
    "execution": {
     "iopub.execute_input": "2021-07-16T13:05:12.844276Z",
     "iopub.status.busy": "2021-07-16T13:05:12.839143Z",
     "iopub.status.idle": "2021-07-16T13:05:14.059637Z",
     "shell.execute_reply": "2021-07-16T13:05:14.060223Z",
     "shell.execute_reply.started": "2021-07-11T06:58:31.721326Z"
    },
    "papermill": {
     "duration": 1.302423,
     "end_time": "2021-07-16T13:05:14.060411",
     "exception": false,
     "start_time": "2021-07-16T13:05:12.757988",
     "status": "completed"
    },
    "tags": []
   },
   "outputs": [
    {
     "data": {
      "image/png": "[encoded data removed]",
      "text/plain": [
       "<Figure size 864x1368 with 2 Axes>"
      ]
     },
     "metadata": {},
     "output_type": "display_data"
    }
   ],
   "source": [
    "fig, axes = plt.subplots(2,1, figsize=(12, 19))\n",
    "\n",
    "axes[0].set_title(\"Profit of Top 10 and Bottom 10\")\n",
    "axes[1].set_title(\"Sales of top 20 Cities\")\n",
    "\n",
    "sns.barplot(y=high_low.index,\n",
    "           x='Profit',\n",
    "           data=high_low,\n",
    "           palette='muted',\n",
    "           ax=axes[0])\n",
    "\n",
    "sns.barplot(y=high_low_1.index,\n",
    "           x='Sales',\n",
    "           data=top20,\n",
    "           palette='muted',\n",
    "           ax=axes[1])\n",
    "plt.tight_layout(pad=4);"
   ]
  },
  {
   "cell_type": "markdown",
   "id": "6f272405",
   "metadata": {
    "papermill": {
     "duration": 0.054182,
     "end_time": "2021-07-16T13:05:14.169022",
     "exception": false,
     "start_time": "2021-07-16T13:05:14.114840",
     "status": "completed"
    },
    "tags": []
   },
   "source": [
    "---\n",
    "**Interpretation:**\n",
    "\n",
    "* `New York` ,`Los Angeles`,`Seattle`,`San Francisco`,`Philadelphia` have the highest number of the Sales.\n",
    "* `New York` ,`Los Angeles`,`Seattle`,`San Francisco`,`Detroit` have the highest number of the Profit.\n",
    "* `Philadelphia` has one of the highest Sales but has Negative Profit ,ie,Losses.This is definitely a point to be considered as Weak Point and attention needs to be given to increase the Profit. \n",
    "* There is a huge disparity between the cities with highest sales and lowest sales. Marketing strategy has to target these `Top 10 Cities`.\n",
    "\n",
    "---"
   ]
  },
  {
   "cell_type": "markdown",
   "id": "d40e54f1",
   "metadata": {
    "papermill": {
     "duration": 0.054391,
     "end_time": "2021-07-16T13:05:14.278017",
     "exception": false,
     "start_time": "2021-07-16T13:05:14.223626",
     "status": "completed"
    },
    "tags": []
   },
   "source": [
    "# Final Conclusions:\n",
    "\n",
    "Consider following recommendations for higher profit:-\n",
    "* Focus on category Technology like Phones as they are highest selling and most profitable. Bundle them with the less profitable products to offset the losses like tables and suppplies.\n",
    "* Selling bookcases, tables and supplies result in losses, so SuperStores has to consider to bundle them together with High Selling or Profitable sub-category such as Machines, Copiers, Phones etc.\n",
    "* For Home Offices customers, these people might be busy with work and less likely to spend time selecting individual products, so creating a Home Office Catalog with products used for offices such as paper, chairs, phone, copiers, storage,machines would result in better profits.\n",
    "* Target consumer customers from East and West region of top 10 cities with most profits, with special promotions and advertisments for copiers, phones, accessories etc.\n",
    "\n",
    "___\n"
   ]
  }
 ],
 "metadata": {
  "kernelspec": {
   "display_name": "Python 3 (ipykernel)",
   "language": "python",
   "name": "python3"
  },
  "language_info": {
   "codemirror_mode": {
    "name": "ipython",
    "version": 3
   },
   "file_extension": ".py",
   "mimetype": "text/x-python",
   "name": "python",
   "nbconvert_exporter": "python",
   "pygments_lexer": "ipython3",
   "version": "3.9.7"
  },
  "papermill": {
   "default_parameters": {},
   "duration": 23.902514,
   "end_time": "2021-07-16T13:05:15.979735",
   "environment_variables": {},
   "exception": null,
   "input_path": "__notebook__.ipynb",
   "output_path": "__notebook__.ipynb",
   "parameters": {},
   "start_time": "2021-07-16T13:04:52.077221",
   "version": "2.3.3"
  }
 },
 "nbformat": 4,
 "nbformat_minor": 5
}
